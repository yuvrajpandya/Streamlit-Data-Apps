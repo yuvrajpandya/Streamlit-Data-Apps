{
 "cells": [
  {
   "cell_type": "code",
   "execution_count": 7,
   "metadata": {},
   "outputs": [
    {
     "data": {
      "text/html": [
       "<div>\n",
       "<style scoped>\n",
       "    .dataframe tbody tr th:only-of-type {\n",
       "        vertical-align: middle;\n",
       "    }\n",
       "\n",
       "    .dataframe tbody tr th {\n",
       "        vertical-align: top;\n",
       "    }\n",
       "\n",
       "    .dataframe thead th {\n",
       "        text-align: right;\n",
       "    }\n",
       "</style>\n",
       "<table border=\"1\" class=\"dataframe\">\n",
       "  <thead>\n",
       "    <tr style=\"text-align: right;\">\n",
       "      <th></th>\n",
       "      <th>Age</th>\n",
       "      <th>Gender</th>\n",
       "      <th>Polyuria</th>\n",
       "      <th>Polydipsia</th>\n",
       "      <th>sudden weight loss</th>\n",
       "      <th>weakness</th>\n",
       "      <th>Polyphagia</th>\n",
       "      <th>Genital thrush</th>\n",
       "      <th>visual blurring</th>\n",
       "      <th>Itching</th>\n",
       "      <th>Irritability</th>\n",
       "      <th>delayed healing</th>\n",
       "      <th>partial paresis</th>\n",
       "      <th>muscle stiffness</th>\n",
       "      <th>Alopecia</th>\n",
       "      <th>Obesity</th>\n",
       "      <th>class</th>\n",
       "    </tr>\n",
       "  </thead>\n",
       "  <tbody>\n",
       "    <tr>\n",
       "      <td>0</td>\n",
       "      <td>40</td>\n",
       "      <td>Male</td>\n",
       "      <td>No</td>\n",
       "      <td>Yes</td>\n",
       "      <td>No</td>\n",
       "      <td>Yes</td>\n",
       "      <td>No</td>\n",
       "      <td>No</td>\n",
       "      <td>No</td>\n",
       "      <td>Yes</td>\n",
       "      <td>No</td>\n",
       "      <td>Yes</td>\n",
       "      <td>No</td>\n",
       "      <td>Yes</td>\n",
       "      <td>Yes</td>\n",
       "      <td>Yes</td>\n",
       "      <td>Positive</td>\n",
       "    </tr>\n",
       "    <tr>\n",
       "      <td>1</td>\n",
       "      <td>58</td>\n",
       "      <td>Male</td>\n",
       "      <td>No</td>\n",
       "      <td>No</td>\n",
       "      <td>No</td>\n",
       "      <td>Yes</td>\n",
       "      <td>No</td>\n",
       "      <td>No</td>\n",
       "      <td>Yes</td>\n",
       "      <td>No</td>\n",
       "      <td>No</td>\n",
       "      <td>No</td>\n",
       "      <td>Yes</td>\n",
       "      <td>No</td>\n",
       "      <td>Yes</td>\n",
       "      <td>No</td>\n",
       "      <td>Positive</td>\n",
       "    </tr>\n",
       "    <tr>\n",
       "      <td>2</td>\n",
       "      <td>41</td>\n",
       "      <td>Male</td>\n",
       "      <td>Yes</td>\n",
       "      <td>No</td>\n",
       "      <td>No</td>\n",
       "      <td>Yes</td>\n",
       "      <td>Yes</td>\n",
       "      <td>No</td>\n",
       "      <td>No</td>\n",
       "      <td>Yes</td>\n",
       "      <td>No</td>\n",
       "      <td>Yes</td>\n",
       "      <td>No</td>\n",
       "      <td>Yes</td>\n",
       "      <td>Yes</td>\n",
       "      <td>No</td>\n",
       "      <td>Positive</td>\n",
       "    </tr>\n",
       "    <tr>\n",
       "      <td>3</td>\n",
       "      <td>45</td>\n",
       "      <td>Male</td>\n",
       "      <td>No</td>\n",
       "      <td>No</td>\n",
       "      <td>Yes</td>\n",
       "      <td>Yes</td>\n",
       "      <td>Yes</td>\n",
       "      <td>Yes</td>\n",
       "      <td>No</td>\n",
       "      <td>Yes</td>\n",
       "      <td>No</td>\n",
       "      <td>Yes</td>\n",
       "      <td>No</td>\n",
       "      <td>No</td>\n",
       "      <td>No</td>\n",
       "      <td>No</td>\n",
       "      <td>Positive</td>\n",
       "    </tr>\n",
       "    <tr>\n",
       "      <td>4</td>\n",
       "      <td>60</td>\n",
       "      <td>Male</td>\n",
       "      <td>Yes</td>\n",
       "      <td>Yes</td>\n",
       "      <td>Yes</td>\n",
       "      <td>Yes</td>\n",
       "      <td>Yes</td>\n",
       "      <td>No</td>\n",
       "      <td>Yes</td>\n",
       "      <td>Yes</td>\n",
       "      <td>Yes</td>\n",
       "      <td>Yes</td>\n",
       "      <td>Yes</td>\n",
       "      <td>Yes</td>\n",
       "      <td>Yes</td>\n",
       "      <td>Yes</td>\n",
       "      <td>Positive</td>\n",
       "    </tr>\n",
       "  </tbody>\n",
       "</table>\n",
       "</div>"
      ],
      "text/plain": [
       "   Age Gender Polyuria Polydipsia sudden weight loss weakness Polyphagia  \\\n",
       "0   40   Male       No        Yes                 No      Yes         No   \n",
       "1   58   Male       No         No                 No      Yes         No   \n",
       "2   41   Male      Yes         No                 No      Yes        Yes   \n",
       "3   45   Male       No         No                Yes      Yes        Yes   \n",
       "4   60   Male      Yes        Yes                Yes      Yes        Yes   \n",
       "\n",
       "  Genital thrush visual blurring Itching Irritability delayed healing  \\\n",
       "0             No              No     Yes           No             Yes   \n",
       "1             No             Yes      No           No              No   \n",
       "2             No              No     Yes           No             Yes   \n",
       "3            Yes              No     Yes           No             Yes   \n",
       "4             No             Yes     Yes          Yes             Yes   \n",
       "\n",
       "  partial paresis muscle stiffness Alopecia Obesity     class  \n",
       "0              No              Yes      Yes     Yes  Positive  \n",
       "1             Yes               No      Yes      No  Positive  \n",
       "2              No              Yes      Yes      No  Positive  \n",
       "3              No               No       No      No  Positive  \n",
       "4             Yes              Yes      Yes     Yes  Positive  "
      ]
     },
     "execution_count": 7,
     "metadata": {},
     "output_type": "execute_result"
    }
   ],
   "source": [
    "import pandas as pd\n",
    "import numpy as np\n",
    "\n",
    "diabetes = pd.read_csv('..\\data\\diabetes_data_upload.csv')\n",
    "diabetes.head()"
   ]
  },
  {
   "cell_type": "code",
   "execution_count": 8,
   "metadata": {},
   "outputs": [],
   "source": [
    "\n",
    "# Change column names: replacing spaces with underscores\n",
    "diabetes.rename(columns={'sudden weight loss': 'sudden_weight_loss', 'Genital thrush': 'Genital_thrush', \n",
    "                         'visual blurring': 'visual_blurring', 'delayed healing': 'delayed_healing', \n",
    "                         'partial paresis': 'partial_paresis', 'muscle stiffness': 'muscle_stiffness'}, inplace=True)\n",
    "\n",
    "# making capitalizing the fisrt letter of each head column \n",
    "diabetes.columns = map(lambda x: str(x).capitalize(), diabetes.columns)"
   ]
  },
  {
   "cell_type": "code",
   "execution_count": 10,
   "metadata": {},
   "outputs": [
    {
     "data": {
      "text/html": [
       "<div>\n",
       "<style scoped>\n",
       "    .dataframe tbody tr th:only-of-type {\n",
       "        vertical-align: middle;\n",
       "    }\n",
       "\n",
       "    .dataframe tbody tr th {\n",
       "        vertical-align: top;\n",
       "    }\n",
       "\n",
       "    .dataframe thead th {\n",
       "        text-align: right;\n",
       "    }\n",
       "</style>\n",
       "<table border=\"1\" class=\"dataframe\">\n",
       "  <thead>\n",
       "    <tr style=\"text-align: right;\">\n",
       "      <th></th>\n",
       "      <th>Age</th>\n",
       "      <th>Gender</th>\n",
       "      <th>Polyuria</th>\n",
       "      <th>Polydipsia</th>\n",
       "      <th>Sudden_weight_loss</th>\n",
       "      <th>Weakness</th>\n",
       "      <th>Polyphagia</th>\n",
       "      <th>Genital_thrush</th>\n",
       "      <th>Visual_blurring</th>\n",
       "      <th>Itching</th>\n",
       "      <th>Irritability</th>\n",
       "      <th>Delayed_healing</th>\n",
       "      <th>Partial_paresis</th>\n",
       "      <th>Muscle_stiffness</th>\n",
       "      <th>Alopecia</th>\n",
       "      <th>Obesity</th>\n",
       "      <th>Class</th>\n",
       "    </tr>\n",
       "  </thead>\n",
       "  <tbody>\n",
       "    <tr>\n",
       "      <td>0</td>\n",
       "      <td>40</td>\n",
       "      <td>Male</td>\n",
       "      <td>No</td>\n",
       "      <td>Yes</td>\n",
       "      <td>No</td>\n",
       "      <td>Yes</td>\n",
       "      <td>No</td>\n",
       "      <td>No</td>\n",
       "      <td>No</td>\n",
       "      <td>Yes</td>\n",
       "      <td>No</td>\n",
       "      <td>Yes</td>\n",
       "      <td>No</td>\n",
       "      <td>Yes</td>\n",
       "      <td>Yes</td>\n",
       "      <td>Yes</td>\n",
       "      <td>Positive</td>\n",
       "    </tr>\n",
       "  </tbody>\n",
       "</table>\n",
       "</div>"
      ],
      "text/plain": [
       "   Age Gender Polyuria Polydipsia Sudden_weight_loss Weakness Polyphagia  \\\n",
       "0   40   Male       No        Yes                 No      Yes         No   \n",
       "\n",
       "  Genital_thrush Visual_blurring Itching Irritability Delayed_healing  \\\n",
       "0             No              No     Yes           No             Yes   \n",
       "\n",
       "  Partial_paresis Muscle_stiffness Alopecia Obesity     Class  \n",
       "0              No              Yes      Yes     Yes  Positive  "
      ]
     },
     "execution_count": 10,
     "metadata": {},
     "output_type": "execute_result"
    }
   ],
   "source": [
    "diabetes.head(1)"
   ]
  },
  {
   "cell_type": "code",
   "execution_count": 11,
   "metadata": {},
   "outputs": [
    {
     "data": {
      "text/plain": [
       "((416, 17), (104, 17))"
      ]
     },
     "execution_count": 11,
     "metadata": {},
     "output_type": "execute_result"
    }
   ],
   "source": [
    "# i need to split the data twice \n",
    "from sklearn.model_selection import  train_test_split\n",
    "train_validate, test = train_test_split(diabetes, train_size=0.80, test_size=0.20, \n",
    "                              stratify=diabetes['Class'], random_state=42)\n",
    "\n",
    "train_validate.shape, test.shape"
   ]
  },
  {
   "cell_type": "code",
   "execution_count": 12,
   "metadata": {},
   "outputs": [
    {
     "data": {
      "text/plain": [
       "((332, 17), (84, 17))"
      ]
     },
     "execution_count": 12,
     "metadata": {},
     "output_type": "execute_result"
    }
   ],
   "source": [
    "# second split\n",
    "train, validate = train_test_split(train_validate, train_size=0.80, test_size=0.20, \n",
    "                              stratify=train_validate['Class'], random_state=42)\n",
    "\n",
    "train.shape, validate.shape"
   ]
  },
  {
   "cell_type": "code",
   "execution_count": 15,
   "metadata": {},
   "outputs": [
    {
     "data": {
      "text/plain": [
       "Positive    0.614458\n",
       "Negative    0.385542\n",
       "Name: Class, dtype: float64"
      ]
     },
     "execution_count": 15,
     "metadata": {},
     "output_type": "execute_result"
    }
   ],
   "source": [
    "# Begin with baselines for classification.\n",
    "target = 'Class'\n",
    "y_train = train[target]\n",
    "y_train.value_counts(normalize=True)"
   ]
  },
  {
   "cell_type": "code",
   "execution_count": 16,
   "metadata": {
    "scrolled": true
   },
   "outputs": [
    {
     "data": {
      "image/png": "[encoded data removed]",
      "text/plain": [
       "<Figure size 432x288 with 1 Axes>"
      ]
     },
     "metadata": {
      "needs_background": "light"
     },
     "output_type": "display_data"
    }
   ],
   "source": [
    "#visualizing the target\n",
    "import seaborn as sns\n",
    "import matplotlib.pyplot as plt\n",
    "%matplotlib inline\n",
    "sns.countplot(y_train);"
   ]
  },
  {
   "cell_type": "code",
   "execution_count": 17,
   "metadata": {},
   "outputs": [],
   "source": [
    "# Get a dataframe with all train columns except the target\n",
    "features = train.columns.drop([target])\n",
    "\n",
    "\n",
    "# vectors and matrices\n",
    "X_train = train[features]\n",
    "y_train = train[target]\n",
    "X_validate = validate[features]\n",
    "y_validate = validate[target]\n",
    "X_test = test[features]\n",
    "y_test = test[target]"
   ]
  },
  {
   "cell_type": "markdown",
   "metadata": {},
   "source": [
    "# making pipeline and fitting the data"
   ]
  },
  {
   "cell_type": "code",
   "execution_count": 24,
   "metadata": {},
   "outputs": [],
   "source": [
    "import category_encoders as ce \n",
    "from sklearn.pipeline import make_pipeline\n",
    "from sklearn.impute import SimpleImputer\n",
    "from sklearn.linear_model import LogisticRegression\n",
    "from sklearn.metrics import roc_auc_score\n",
    "\n",
    "pipeline = make_pipeline(\n",
    "    ce.OrdinalEncoder(),\n",
    "    SimpleImputer(strategy='median'), \n",
    "    LogisticRegression(random_state=100, max_iter=50) # more iterations higher accuracy\n",
    "  )"
   ]
  },
  {
   "cell_type": "code",
   "execution_count": 25,
   "metadata": {},
   "outputs": [
    {
     "name": "stderr",
     "output_type": "stream",
     "text": [
      "C:\\Users\\yuvra\\Anaconda3\\lib\\site-packages\\sklearn\\linear_model\\logistic.py:432: FutureWarning: Default solver will be changed to 'lbfgs' in 0.22. Specify a solver to silence this warning.\n",
      "  FutureWarning)\n"
     ]
    }
   ],
   "source": [
    "# Fitting on train\n",
    "pipeline.fit(X_train, y_train)\n",
    "\n",
    "#prediction on X_test\n",
    "y_pred1 = pipeline.predict(X_test)"
   ]
  },
  {
   "cell_type": "code",
   "execution_count": 28,
   "metadata": {},
   "outputs": [],
   "source": [
    "#predict probabilities for the test set.\n",
    "y_pred_proba1 = pipeline.predict_proba(X_test)[:, -1]"
   ]
  },
  {
   "cell_type": "code",
   "execution_count": 56,
   "metadata": {},
   "outputs": [
    {
     "data": {
      "text/plain": [
       "array(['Negative', 'Positive'], dtype=object)"
      ]
     },
     "execution_count": 56,
     "metadata": {},
     "output_type": "execute_result"
    }
   ],
   "source": [
    "#this is to know the indexes of the predicted probability\n",
    "#index 0: is for Negative class & index 1: is for Positive class\n",
    "pipeline.named_steps.logisticregression.classes_"
   ]
  },
  {
   "cell_type": "code",
   "execution_count": 49,
   "metadata": {},
   "outputs": [],
   "source": [
    "y_pred_proba2 = pipeline.predict_proba(X_test)"
   ]
  },
  {
   "cell_type": "code",
   "execution_count": 51,
   "metadata": {},
   "outputs": [
    {
     "data": {
      "text/plain": [
       "array([0.71525134, 0.28474866])"
      ]
     },
     "execution_count": 51,
     "metadata": {},
     "output_type": "execute_result"
    }
   ],
   "source": [
    "#e.g.: 0.71525 Negative class & 0.28474 Positive class probabilities\n",
    "y_pred_proba2[0]"
   ]
  },
  {
   "cell_type": "code",
   "execution_count": 30,
   "metadata": {},
   "outputs": [
    {
     "name": "stdout",
     "output_type": "stream",
     "text": [
      "Validation Accuracy 0.9047619047619048\n",
      "Test ROC AUC score 0.971484375\n"
     ]
    }
   ],
   "source": [
    "#score on validate\n",
    "print('Validation Accuracy', pipeline.score(X_validate, y_validate))\n",
    "print('Test ROC AUC score', roc_auc_score(y_test, y_pred_proba1))"
   ]
  },
  {
   "cell_type": "code",
   "execution_count": 38,
   "metadata": {},
   "outputs": [
    {
     "name": "stdout",
     "output_type": "stream",
     "text": [
      "              precision    recall  f1-score   support\n",
      "\n",
      "    Negative       0.89      0.97      0.93        40\n",
      "    Positive       0.98      0.92      0.95        64\n",
      "\n",
      "    accuracy                           0.94       104\n",
      "   macro avg       0.93      0.95      0.94       104\n",
      "weighted avg       0.95      0.94      0.94       104\n",
      "\n"
     ]
    }
   ],
   "source": [
    "from sklearn.metrics import classification_report\n",
    "print(classification_report(y_test, y_pred1))"
   ]
  },
  {
   "cell_type": "code",
   "execution_count": 39,
   "metadata": {},
   "outputs": [],
   "source": [
    "LRtrainedmodel = pipeline.named_steps.logisticregression"
   ]
  },
  {
   "cell_type": "code",
   "execution_count": 40,
   "metadata": {},
   "outputs": [],
   "source": [
    "import pickle"
   ]
  },
  {
   "cell_type": "code",
   "execution_count": 42,
   "metadata": {},
   "outputs": [],
   "source": [
    "filename = 'diabetes_logistics_reg_predictor.pkl'\n",
    "pickle.dump(LRtrainedmodel, open(filename, 'wb'))"
   ]
  },
  {
   "cell_type": "code",
   "execution_count": 43,
   "metadata": {},
   "outputs": [
    {
     "data": {
      "text/plain": [
       "[{'col': 'Gender',\n",
       "  'mapping': Male      1\n",
       "  Female    2\n",
       "  NaN      -2\n",
       "  dtype: int64,\n",
       "  'data_type': dtype('O')},\n",
       " {'col': 'Polyuria',\n",
       "  'mapping': No     1\n",
       "  Yes    2\n",
       "  NaN   -2\n",
       "  dtype: int64,\n",
       "  'data_type': dtype('O')},\n",
       " {'col': 'Polydipsia',\n",
       "  'mapping': No     1\n",
       "  Yes    2\n",
       "  NaN   -2\n",
       "  dtype: int64,\n",
       "  'data_type': dtype('O')},\n",
       " {'col': 'Sudden_weight_loss',\n",
       "  'mapping': No     1\n",
       "  Yes    2\n",
       "  NaN   -2\n",
       "  dtype: int64,\n",
       "  'data_type': dtype('O')},\n",
       " {'col': 'Weakness',\n",
       "  'mapping': No     1\n",
       "  Yes    2\n",
       "  NaN   -2\n",
       "  dtype: int64,\n",
       "  'data_type': dtype('O')},\n",
       " {'col': 'Polyphagia',\n",
       "  'mapping': No     1\n",
       "  Yes    2\n",
       "  NaN   -2\n",
       "  dtype: int64,\n",
       "  'data_type': dtype('O')},\n",
       " {'col': 'Genital_thrush',\n",
       "  'mapping': No     1\n",
       "  Yes    2\n",
       "  NaN   -2\n",
       "  dtype: int64,\n",
       "  'data_type': dtype('O')},\n",
       " {'col': 'Visual_blurring',\n",
       "  'mapping': No     1\n",
       "  Yes    2\n",
       "  NaN   -2\n",
       "  dtype: int64,\n",
       "  'data_type': dtype('O')},\n",
       " {'col': 'Itching',\n",
       "  'mapping': No     1\n",
       "  Yes    2\n",
       "  NaN   -2\n",
       "  dtype: int64,\n",
       "  'data_type': dtype('O')},\n",
       " {'col': 'Irritability',\n",
       "  'mapping': No     1\n",
       "  Yes    2\n",
       "  NaN   -2\n",
       "  dtype: int64,\n",
       "  'data_type': dtype('O')},\n",
       " {'col': 'Delayed_healing',\n",
       "  'mapping': No     1\n",
       "  Yes    2\n",
       "  NaN   -2\n",
       "  dtype: int64,\n",
       "  'data_type': dtype('O')},\n",
       " {'col': 'Partial_paresis',\n",
       "  'mapping': No     1\n",
       "  Yes    2\n",
       "  NaN   -2\n",
       "  dtype: int64,\n",
       "  'data_type': dtype('O')},\n",
       " {'col': 'Muscle_stiffness',\n",
       "  'mapping': No     1\n",
       "  Yes    2\n",
       "  NaN   -2\n",
       "  dtype: int64,\n",
       "  'data_type': dtype('O')},\n",
       " {'col': 'Alopecia',\n",
       "  'mapping': No     1\n",
       "  Yes    2\n",
       "  NaN   -2\n",
       "  dtype: int64,\n",
       "  'data_type': dtype('O')},\n",
       " {'col': 'Obesity',\n",
       "  'mapping': No     1\n",
       "  Yes    2\n",
       "  NaN   -2\n",
       "  dtype: int64,\n",
       "  'data_type': dtype('O')}]"
      ]
     },
     "execution_count": 43,
     "metadata": {},
     "output_type": "execute_result"
    }
   ],
   "source": [
    "#to know internally what categories were applied -> extract the mappings from pipeline\n",
    "#this will be useful to build a data app later when the user inputs need to be mapped before passing to the trained model for prediction\n",
    "pipeline.named_steps.ordinalencoder.category_mapping"
   ]
  },
  {
   "cell_type": "code",
   "execution_count": null,
   "metadata": {},
   "outputs": [],
   "source": []
  }
 ],
 "metadata": {
  "kernelspec": {
   "display_name": "Python 3",
   "language": "python",
   "name": "python3"
  },
  "language_info": {
   "codemirror_mode": {
    "name": "ipython",
    "version": 3
   },
   "file_extension": ".py",
   "mimetype": "text/x-python",
   "name": "python",
   "nbconvert_exporter": "python",
   "pygments_lexer": "ipython3",
   "version": "3.7.6"
  }
 },
 "nbformat": 4,
 "nbformat_minor": 4
}
